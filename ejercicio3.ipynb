{
 "cells": [
  {
   "cell_type": "code",
   "execution_count": 15,
   "id": "1883a5d9",
   "metadata": {},
   "outputs": [],
   "source": [
    "import setuptools\n",
    "import pandas as pd\n",
    "from pyspark.sql import SparkSession"
   ]
  },
  {
   "cell_type": "code",
   "execution_count": 16,
   "id": "f1f4506d",
   "metadata": {},
   "outputs": [],
   "source": [
    "# 1. Datos de películas en Pandas\n",
    "datos_peliculas = pd.DataFrame([\n",
    "    (1, \"Película1\", 2020),\n",
    "    (2, \"Película2\", 2019),\n",
    "    (3, \"Película3\", 2021),\n",
    "    (4, \"Película4\", 2018)\n",
    "], columns=[\"ID\", \"Título\", \"Año\"])\n"
   ]
  },
  {
   "cell_type": "code",
   "execution_count": 17,
   "id": "40bfeff0",
   "metadata": {},
   "outputs": [],
   "source": [
    "\n",
    "\n",
    "# 2. Iniciar Spark\n",
    "spark = SparkSession.builder.appName(\"CriticasPeliculas\").getOrCreate()\n"
   ]
  },
  {
   "cell_type": "code",
   "execution_count": 18,
   "id": "46ec460d",
   "metadata": {},
   "outputs": [],
   "source": [
    "\n",
    "\n",
    "# 3. Convertir datos de películas a Spark DataFrame\n",
    "pelis_spark = spark.createDataFrame(datos_peliculas)  # :contentReference[oaicite:4]{index=4}\n"
   ]
  },
  {
   "cell_type": "code",
   "execution_count": 19,
   "id": "3e9675d5",
   "metadata": {},
   "outputs": [],
   "source": [
    "# 4. Datos de críticas en Spark\n",
    "criticas = spark.createDataFrame([\n",
    "    (1, \"Critico1\", 4.5),\n",
    "    (2, \"Critico2\", 3.8),\n",
    "    (3, \"Critico1\", 4.2),\n",
    "    (4, \"Critico3\", 4.7)\n",
    "], schema=[\"PeliculaID\", \"Critico\", \"Puntuacion\"])\n"
   ]
  },
  {
   "cell_type": "code",
   "execution_count": null,
   "id": "c80c5954",
   "metadata": {},
   "outputs": [],
   "source": [
    "\n",
    "\n",
    "# 5. Cálculo de puntuación promedio por película en Spark\n",
    "df_criticas_avg = (\n",
    "    criticas\n",
    "    .groupBy(\"PeliculaID\")\n",
    "    .avg(\"Puntuacion\")\n",
    "    .withColumnRenamed(\"avg(Puntuacion)\", \"PuntuacionMedia\")\n",
    ") "
   ]
  },
  {
   "cell_type": "code",
   "execution_count": null,
   "id": "9177aa47",
   "metadata": {},
   "outputs": [
    {
     "name": "stderr",
     "output_type": "stream",
     "text": [
      "                                                                                \r"
     ]
    },
    {
     "name": "stdout",
     "output_type": "stream",
     "text": [
      "      Título   Año  PuntuacionMedia\n",
      "0  Película1  2020              4.5\n",
      "1  Película2  2019              3.8\n",
      "2  Película3  2021              4.2\n",
      "3  Película4  2018              4.7\n"
     ]
    }
   ],
   "source": [
    "\n",
    "# 6. Unir en Spark\n",
    "# Opción A: unión en Spark y luego toPandas()\n",
    "resultado_spark = (\n",
    "    pelis_spark\n",
    "    .join(df_criticas_avg, pelis_spark.ID == df_criticas_avg.PeliculaID, \"inner\")\n",
    "    .select(\"Título\", \"Año\", \"PuntuacionMedia\")\n",
    ")\n",
    "resultado = resultado_spark.toPandas() \n",
    "\n",
    "# 7. Mostrar resultado en Pandas\n",
    "print(resultado)\n",
    "\n",
    "# 8. Detener Spark\n",
    "spark.stop()\n"
   ]
  }
 ],
 "metadata": {
  "kernelspec": {
   "display_name": "venv",
   "language": "python",
   "name": "python3"
  },
  "language_info": {
   "codemirror_mode": {
    "name": "ipython",
    "version": 3
   },
   "file_extension": ".py",
   "mimetype": "text/x-python",
   "name": "python",
   "nbconvert_exporter": "python",
   "pygments_lexer": "ipython3",
   "version": "3.12.0"
  }
 },
 "nbformat": 4,
 "nbformat_minor": 5
}
