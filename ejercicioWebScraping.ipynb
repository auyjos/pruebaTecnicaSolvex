{
 "cells": [
  {
   "cell_type": "code",
   "execution_count": 2,
   "id": "ac3bd327",
   "metadata": {},
   "outputs": [
    {
     "name": "stdout",
     "output_type": "stream",
     "text": [
      "Precio actual de Bitcoin: $106,935.09\n"
     ]
    }
   ],
   "source": [
    "import requests\n",
    "from bs4 import BeautifulSoup\n",
    "\n",
    "url = 'https://coinmarketcap.com/currencies/bitcoin/'\n",
    "headers = {\n",
    "    'User-Agent': (\n",
    "        'Mozilla/5.0 (Windows NT 10.0; Win64; x64) '\n",
    "        'AppleWebKit/537.36 (KHTML, like Gecko) '\n",
    "        'Chrome/192.0.0.0 Safari/537.36'\n",
    "    )\n",
    "}\n",
    "\n",
    "response = requests.get(url, headers=headers)\n",
    "response.raise_for_status()\n",
    "\n",
    "soup = BeautifulSoup(response.text, 'html.parser')\n",
    "\n",
    "# Buscar el <span> que contiene el precio usando su atributo data-test\n",
    "price_span = soup.find('span', attrs={'data-test': 'text-cdp-price-display'})\n",
    "\n",
    "if price_span:\n",
    "    precio = price_span.get_text().strip()\n",
    "    print(f'Precio actual de Bitcoin: {precio}')\n",
    "else:\n",
    "    print('No encontró el elemento')\n"
   ]
  }
 ],
 "metadata": {
  "kernelspec": {
   "display_name": "venv",
   "language": "python",
   "name": "python3"
  },
  "language_info": {
   "codemirror_mode": {
    "name": "ipython",
    "version": 3
   },
   "file_extension": ".py",
   "mimetype": "text/x-python",
   "name": "python",
   "nbconvert_exporter": "python",
   "pygments_lexer": "ipython3",
   "version": "3.12.0"
  }
 },
 "nbformat": 4,
 "nbformat_minor": 5
}
