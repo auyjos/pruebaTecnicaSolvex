{
 "cells": [
  {
   "cell_type": "markdown",
   "id": "dff4700b",
   "metadata": {},
   "source": [
    "# Instrucciones de Ejecución\n",
    "\n",
    "> **IMPORTANTE:** Ejecutar las celdas de arriba hacia abajo sin saltar ningún paso.  \n",
    "> - Cada sección depende de la salida de la anterior (instalación, carga de datos, transformación, análisis).  \n",
    "> - Si ejecutas celdas fuera de orden, es posible que falten variables o dependencias y el notebook falle.\n",
    "\n",
    "---\n",
    "\n",
    "## Justificación del Dataset\n",
    "\n",
    "En lugar de descargar los datos directamente desde el portal oficial de la Oficina de Estadísticas de Transporte de EE. UU., hemos utilizado el conjunto de datos de Kaggle (`usdot/flight-delays`).  \n",
    "- Al intentar acceder a los archivos CSV originales en el sitio de la BTS, no se encontraban disponibles.\n",
    "- Los datos de Kaggle suelen estar preprocesados y “limpios” (columnas bien definidas, sin valores corruptos ni codificaciones extrañas), lo que facilita la carga en Spark y evita pasos adicionales de limpieza manual.  \n",
    "- Además, Kaggle garantiza una URL de descarga estable y un único CSV listo para usar.\n"
   ]
  },
  {
   "cell_type": "code",
   "execution_count": 15,
   "id": "224c177a",
   "metadata": {},
   "outputs": [],
   "source": [
    "from pyspark.sql import SparkSession\n",
    "from pyspark.sql.functions import avg, col, count\n",
    "from pyspark.sql.types import DoubleType\n"
   ]
  },
  {
   "cell_type": "code",
   "execution_count": 16,
   "id": "5bc31c16",
   "metadata": {},
   "outputs": [
    {
     "name": "stderr",
     "output_type": "stream",
     "text": [
      "                                                                                \r"
     ]
    }
   ],
   "source": [
    "# 1) Inicia Spark\n",
    "spark = SparkSession.builder \\\n",
    "    .appName(\"ProcesamientoVuelos2015\") \\\n",
    "    .getOrCreate()\n",
    "spark.sparkContext.setLogLevel(\"ERROR\")\n",
    "# 2) Carga el CSV en un DataFrame de Spark\n",
    "flights_df = spark.read.csv(\n",
    "    \"data/flights.csv\",\n",
    "    header=True,\n",
    "    inferSchema=True\n",
    ")"
   ]
  },
  {
   "cell_type": "code",
   "execution_count": 17,
   "id": "2d5911b5",
   "metadata": {},
   "outputs": [],
   "source": [
    "\n",
    "\n",
    "\n",
    "# 3) Retraso promedio de llegada en un aeropuerto específico\n",
    "#    Ajustamos a la columna ARRIVAL_DELAY y DESTINATION_AIRPORT\n",
    "target_airport = \"JFK\"\n",
    "\n",
    "avg_delay_df = (\n",
    "    flights_df\n",
    "    .filter(\n",
    "        (col(\"DESTINATION_AIRPORT\") == target_airport) &\n",
    "        col(\"ARRIVAL_DELAY\").isNotNull()\n",
    "    )\n",
    "    .agg(\n",
    "        avg(col(\"ARRIVAL_DELAY\")).cast(DoubleType()).alias(\"PromedioArrDelay\")\n",
    "    )\n",
    ")\n",
    "\n"
   ]
  },
  {
   "cell_type": "code",
   "execution_count": 18,
   "id": "b987a06d",
   "metadata": {},
   "outputs": [
    {
     "name": "stdout",
     "output_type": "stream",
     "text": [
      "Retraso promedio de llegada en JFK:\n",
      "+-----------------+\n",
      "|PromedioArrDelay |\n",
      "+-----------------+\n",
      "|6.699455162850623|\n",
      "+-----------------+\n",
      "\n"
     ]
    }
   ],
   "source": [
    "print(f\"Retraso promedio de llegada en {target_airport}:\")\n",
    "avg_delay_df.show(truncate=False)"
   ]
  },
  {
   "cell_type": "code",
   "execution_count": 19,
   "id": "b400d79e",
   "metadata": {},
   "outputs": [
    {
     "name": "stdout",
     "output_type": "stream",
     "text": [
      "Top 10 rutas más populares (Origen → Destino):\n"
     ]
    },
    {
     "name": "stderr",
     "output_type": "stream",
     "text": [
      "                                                                                \r"
     ]
    },
    {
     "name": "stdout",
     "output_type": "stream",
     "text": [
      "+--------------+-------------------+--------------+\n",
      "|ORIGIN_AIRPORT|DESTINATION_AIRPORT|CantidadVuelos|\n",
      "+--------------+-------------------+--------------+\n",
      "|SFO           |LAX                |13744         |\n",
      "|LAX           |SFO                |13457         |\n",
      "|JFK           |LAX                |12016         |\n",
      "|LAX           |JFK                |12015         |\n",
      "|LAS           |LAX                |9715          |\n",
      "|LGA           |ORD                |9639          |\n",
      "|LAX           |LAS                |9594          |\n",
      "|ORD           |LGA                |9575          |\n",
      "|SFO           |JFK                |8440          |\n",
      "|JFK           |SFO                |8437          |\n",
      "+--------------+-------------------+--------------+\n",
      "\n"
     ]
    }
   ],
   "source": [
    "\n",
    "\n",
    "\n",
    "# 4) Top-10 rutas más populares (origen → destino)\n",
    "#    Ahora con ORIGIN_AIRPORT y DESTINATION_AIRPORT\n",
    "top_routes_df = (\n",
    "    flights_df\n",
    "    .groupBy(\"ORIGIN_AIRPORT\", \"DESTINATION_AIRPORT\")\n",
    "    .agg(count(\"*\").alias(\"CantidadVuelos\"))\n",
    "    .orderBy(col(\"CantidadVuelos\").desc())\n",
    "    .limit(10)\n",
    ")\n",
    "\n",
    "print(\"Top 10 rutas más populares (Origen → Destino):\")\n",
    "top_routes_df.show(truncate=False)\n",
    "\n",
    "\n",
    "# 5) Cierra la sesión de Spark\n",
    "spark.stop()\n"
   ]
  }
 ],
 "metadata": {
  "kernelspec": {
   "display_name": "venv",
   "language": "python",
   "name": "python3"
  },
  "language_info": {
   "codemirror_mode": {
    "name": "ipython",
    "version": 3
   },
   "file_extension": ".py",
   "mimetype": "text/x-python",
   "name": "python",
   "nbconvert_exporter": "python",
   "pygments_lexer": "ipython3",
   "version": "3.12.0"
  }
 },
 "nbformat": 4,
 "nbformat_minor": 5
}
